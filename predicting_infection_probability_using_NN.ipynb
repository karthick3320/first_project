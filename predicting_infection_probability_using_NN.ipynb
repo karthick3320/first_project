{
 "cells": [
  {
   "cell_type": "markdown",
   "metadata": {},
   "source": [
    "## importing libraries"
   ]
  },
  {
   "cell_type": "code",
   "execution_count": 1,
   "metadata": {},
   "outputs": [],
   "source": [
    "import numpy as np\n",
    "import tensorflow as tf"
   ]
  },
  {
   "cell_type": "markdown",
   "metadata": {},
   "source": [
    "## train,validation,target"
   ]
  },
  {
   "cell_type": "code",
   "execution_count": 2,
   "metadata": {},
   "outputs": [],
   "source": [
    "npz = np.load('covid_data_train.npz')\n",
    "\n",
    "train_inputs,train_targets = npz['inputs'].astype(np.float),npz['targets'].astype(np.float)"
   ]
  },
  {
   "cell_type": "code",
   "execution_count": 3,
   "metadata": {},
   "outputs": [],
   "source": [
    "npz = np.load('covid_data_validation.npz')\n",
    "\n",
    "validation_inputs,validation_targets =npz['inputs'].astype(np.float),npz['targets'].astype(np.float)"
   ]
  },
  {
   "cell_type": "code",
   "execution_count": 4,
   "metadata": {},
   "outputs": [],
   "source": [
    "npz = np.load('covid_data_test.npz')\n",
    "\n",
    "test_inputs,test_targets = npz['inputs'].astype(np.float),npz['targets'].astype(np.float)"
   ]
  },
  {
   "cell_type": "markdown",
   "metadata": {},
   "source": [
    "## model"
   ]
  },
  {
   "cell_type": "code",
   "execution_count": 5,
   "metadata": {},
   "outputs": [
    {
     "name": "stdout",
     "output_type": "stream",
     "text": [
      "Epoch 1/100\n",
      "86/86 - 1s - loss: 0.2416 - accuracy: 0.6117 - val_loss: 0.2374 - val_accuracy: 0.6275\n",
      "Epoch 2/100\n",
      "86/86 - 0s - loss: 0.2365 - accuracy: 0.6135 - val_loss: 0.2329 - val_accuracy: 0.6275\n",
      "Epoch 3/100\n",
      "86/86 - 0s - loss: 0.2330 - accuracy: 0.6135 - val_loss: 0.2297 - val_accuracy: 0.6275\n",
      "Epoch 4/100\n",
      "86/86 - 0s - loss: 0.2302 - accuracy: 0.6135 - val_loss: 0.2270 - val_accuracy: 0.6275\n",
      "Epoch 5/100\n",
      "86/86 - 0s - loss: 0.2275 - accuracy: 0.6135 - val_loss: 0.2243 - val_accuracy: 0.6275\n",
      "Epoch 6/100\n",
      "86/86 - 0s - loss: 0.2246 - accuracy: 0.6135 - val_loss: 0.2215 - val_accuracy: 0.6275\n",
      "Epoch 7/100\n",
      "86/86 - 0s - loss: 0.2214 - accuracy: 0.6135 - val_loss: 0.2183 - val_accuracy: 0.6275\n",
      "Epoch 8/100\n",
      "86/86 - 0s - loss: 0.2178 - accuracy: 0.6135 - val_loss: 0.2149 - val_accuracy: 0.6275\n",
      "Epoch 9/100\n",
      "86/86 - 0s - loss: 0.2137 - accuracy: 0.6135 - val_loss: 0.2109 - val_accuracy: 0.6275\n",
      "Epoch 10/100\n",
      "86/86 - 0s - loss: 0.2090 - accuracy: 0.6135 - val_loss: 0.2066 - val_accuracy: 0.6275\n",
      "Epoch 11/100\n",
      "86/86 - 0s - loss: 0.2040 - accuracy: 0.6144 - val_loss: 0.2020 - val_accuracy: 0.6312\n",
      "Epoch 12/100\n",
      "86/86 - 0s - loss: 0.1987 - accuracy: 0.6286 - val_loss: 0.1973 - val_accuracy: 0.6601\n",
      "Epoch 13/100\n",
      "86/86 - 0s - loss: 0.1932 - accuracy: 0.6618 - val_loss: 0.1927 - val_accuracy: 0.6872\n",
      "Epoch 14/100\n",
      "86/86 - 0s - loss: 0.1879 - accuracy: 0.6979 - val_loss: 0.1881 - val_accuracy: 0.7115\n",
      "Epoch 15/100\n",
      "86/86 - 0s - loss: 0.1826 - accuracy: 0.7222 - val_loss: 0.1838 - val_accuracy: 0.7171\n",
      "Epoch 16/100\n",
      "86/86 - 0s - loss: 0.1776 - accuracy: 0.7422 - val_loss: 0.1797 - val_accuracy: 0.7395\n",
      "Epoch 17/100\n",
      "86/86 - 0s - loss: 0.1728 - accuracy: 0.7538 - val_loss: 0.1758 - val_accuracy: 0.7423\n",
      "Epoch 18/100\n",
      "86/86 - 0s - loss: 0.1682 - accuracy: 0.7642 - val_loss: 0.1722 - val_accuracy: 0.7535\n",
      "Epoch 19/100\n",
      "86/86 - 0s - loss: 0.1639 - accuracy: 0.7748 - val_loss: 0.1689 - val_accuracy: 0.7572\n",
      "Epoch 20/100\n",
      "86/86 - 0s - loss: 0.1598 - accuracy: 0.7837 - val_loss: 0.1659 - val_accuracy: 0.7554\n",
      "Epoch 21/100\n",
      "86/86 - 0s - loss: 0.1560 - accuracy: 0.7910 - val_loss: 0.1631 - val_accuracy: 0.7591\n",
      "Epoch 22/100\n",
      "86/86 - 0s - loss: 0.1524 - accuracy: 0.7976 - val_loss: 0.1604 - val_accuracy: 0.7638\n",
      "Epoch 23/100\n",
      "86/86 - 0s - loss: 0.1491 - accuracy: 0.8012 - val_loss: 0.1580 - val_accuracy: 0.7722\n",
      "Epoch 24/100\n",
      "86/86 - 0s - loss: 0.1459 - accuracy: 0.8057 - val_loss: 0.1557 - val_accuracy: 0.7768\n",
      "Epoch 25/100\n",
      "86/86 - 0s - loss: 0.1429 - accuracy: 0.8097 - val_loss: 0.1535 - val_accuracy: 0.7750\n",
      "Epoch 26/100\n",
      "86/86 - 0s - loss: 0.1400 - accuracy: 0.8145 - val_loss: 0.1515 - val_accuracy: 0.7815\n",
      "Epoch 27/100\n",
      "86/86 - 0s - loss: 0.1373 - accuracy: 0.8183 - val_loss: 0.1495 - val_accuracy: 0.7852\n",
      "Epoch 28/100\n",
      "86/86 - 0s - loss: 0.1347 - accuracy: 0.8216 - val_loss: 0.1479 - val_accuracy: 0.7890\n",
      "Epoch 29/100\n",
      "86/86 - 0s - loss: 0.1323 - accuracy: 0.8244 - val_loss: 0.1462 - val_accuracy: 0.7908\n",
      "Epoch 30/100\n",
      "86/86 - 0s - loss: 0.1300 - accuracy: 0.8277 - val_loss: 0.1447 - val_accuracy: 0.7946\n",
      "Epoch 31/100\n",
      "86/86 - 0s - loss: 0.1278 - accuracy: 0.8325 - val_loss: 0.1431 - val_accuracy: 0.7993\n",
      "Epoch 32/100\n",
      "86/86 - 0s - loss: 0.1257 - accuracy: 0.8349 - val_loss: 0.1418 - val_accuracy: 0.8021\n",
      "Epoch 33/100\n",
      "86/86 - 0s - loss: 0.1237 - accuracy: 0.8381 - val_loss: 0.1404 - val_accuracy: 0.8039\n",
      "Epoch 34/100\n",
      "86/86 - 0s - loss: 0.1217 - accuracy: 0.8400 - val_loss: 0.1393 - val_accuracy: 0.8086\n",
      "Epoch 35/100\n",
      "86/86 - 0s - loss: 0.1199 - accuracy: 0.8433 - val_loss: 0.1379 - val_accuracy: 0.8105\n",
      "Epoch 36/100\n",
      "86/86 - 0s - loss: 0.1181 - accuracy: 0.8460 - val_loss: 0.1366 - val_accuracy: 0.8142\n",
      "Epoch 37/100\n",
      "86/86 - 0s - loss: 0.1164 - accuracy: 0.8476 - val_loss: 0.1353 - val_accuracy: 0.8179\n",
      "Epoch 38/100\n",
      "86/86 - 0s - loss: 0.1147 - accuracy: 0.8518 - val_loss: 0.1345 - val_accuracy: 0.8142\n",
      "Epoch 39/100\n",
      "86/86 - 0s - loss: 0.1131 - accuracy: 0.8521 - val_loss: 0.1331 - val_accuracy: 0.8179\n",
      "Epoch 40/100\n",
      "86/86 - 0s - loss: 0.1116 - accuracy: 0.8554 - val_loss: 0.1317 - val_accuracy: 0.8161\n",
      "Epoch 41/100\n",
      "86/86 - 0s - loss: 0.1101 - accuracy: 0.8572 - val_loss: 0.1305 - val_accuracy: 0.8161\n",
      "Epoch 42/100\n",
      "86/86 - 0s - loss: 0.1086 - accuracy: 0.8582 - val_loss: 0.1292 - val_accuracy: 0.8161\n",
      "Epoch 43/100\n",
      "86/86 - 0s - loss: 0.1073 - accuracy: 0.8599 - val_loss: 0.1279 - val_accuracy: 0.8170\n",
      "Epoch 44/100\n",
      "86/86 - 0s - loss: 0.1059 - accuracy: 0.8606 - val_loss: 0.1267 - val_accuracy: 0.8179\n",
      "Epoch 45/100\n",
      "86/86 - 0s - loss: 0.1046 - accuracy: 0.8631 - val_loss: 0.1257 - val_accuracy: 0.8179\n",
      "Epoch 46/100\n",
      "86/86 - 0s - loss: 0.1033 - accuracy: 0.8647 - val_loss: 0.1243 - val_accuracy: 0.8179\n",
      "Epoch 47/100\n",
      "86/86 - 0s - loss: 0.1020 - accuracy: 0.8673 - val_loss: 0.1230 - val_accuracy: 0.8254\n",
      "Epoch 48/100\n",
      "86/86 - 0s - loss: 0.1006 - accuracy: 0.8689 - val_loss: 0.1215 - val_accuracy: 0.8310\n",
      "Epoch 49/100\n",
      "86/86 - 0s - loss: 0.0994 - accuracy: 0.8725 - val_loss: 0.1204 - val_accuracy: 0.8291\n",
      "Epoch 50/100\n",
      "86/86 - 0s - loss: 0.0982 - accuracy: 0.8735 - val_loss: 0.1190 - val_accuracy: 0.8347\n",
      "Epoch 51/100\n",
      "86/86 - 0s - loss: 0.0970 - accuracy: 0.8757 - val_loss: 0.1181 - val_accuracy: 0.8310\n",
      "Epoch 52/100\n",
      "86/86 - 0s - loss: 0.0958 - accuracy: 0.8776 - val_loss: 0.1166 - val_accuracy: 0.8366\n",
      "Epoch 53/100\n",
      "86/86 - 0s - loss: 0.0946 - accuracy: 0.8791 - val_loss: 0.1154 - val_accuracy: 0.8385\n",
      "Epoch 54/100\n",
      "86/86 - 0s - loss: 0.0936 - accuracy: 0.8782 - val_loss: 0.1140 - val_accuracy: 0.8413\n",
      "Epoch 55/100\n",
      "86/86 - 0s - loss: 0.0925 - accuracy: 0.8806 - val_loss: 0.1128 - val_accuracy: 0.8413\n",
      "Epoch 56/100\n",
      "86/86 - 0s - loss: 0.0914 - accuracy: 0.8811 - val_loss: 0.1117 - val_accuracy: 0.8403\n",
      "Epoch 57/100\n",
      "86/86 - 0s - loss: 0.0904 - accuracy: 0.8818 - val_loss: 0.1105 - val_accuracy: 0.8469\n",
      "Epoch 58/100\n",
      "86/86 - 0s - loss: 0.0893 - accuracy: 0.8833 - val_loss: 0.1092 - val_accuracy: 0.8487\n",
      "Epoch 59/100\n",
      "86/86 - 0s - loss: 0.0883 - accuracy: 0.8850 - val_loss: 0.1076 - val_accuracy: 0.8534\n",
      "Epoch 60/100\n",
      "86/86 - 0s - loss: 0.0873 - accuracy: 0.8843 - val_loss: 0.1068 - val_accuracy: 0.8525\n",
      "Epoch 61/100\n",
      "86/86 - 0s - loss: 0.0864 - accuracy: 0.8847 - val_loss: 0.1057 - val_accuracy: 0.8562\n",
      "Epoch 62/100\n",
      "86/86 - 0s - loss: 0.0855 - accuracy: 0.8860 - val_loss: 0.1045 - val_accuracy: 0.8562\n",
      "Epoch 63/100\n",
      "86/86 - 0s - loss: 0.0846 - accuracy: 0.8886 - val_loss: 0.1037 - val_accuracy: 0.8581\n",
      "Epoch 64/100\n",
      "86/86 - 0s - loss: 0.0837 - accuracy: 0.8893 - val_loss: 0.1028 - val_accuracy: 0.8618\n",
      "Epoch 65/100\n",
      "86/86 - 0s - loss: 0.0830 - accuracy: 0.8897 - val_loss: 0.1015 - val_accuracy: 0.8655\n",
      "Epoch 66/100\n",
      "86/86 - 0s - loss: 0.0822 - accuracy: 0.8907 - val_loss: 0.1012 - val_accuracy: 0.8646\n",
      "Epoch 67/100\n",
      "86/86 - 0s - loss: 0.0814 - accuracy: 0.8917 - val_loss: 0.1001 - val_accuracy: 0.8683\n",
      "Epoch 68/100\n",
      "86/86 - 0s - loss: 0.0807 - accuracy: 0.8925 - val_loss: 0.0992 - val_accuracy: 0.8702\n",
      "Epoch 69/100\n",
      "86/86 - 0s - loss: 0.0800 - accuracy: 0.8930 - val_loss: 0.0982 - val_accuracy: 0.8711\n",
      "Epoch 70/100\n",
      "86/86 - 0s - loss: 0.0794 - accuracy: 0.8943 - val_loss: 0.0975 - val_accuracy: 0.8721\n",
      "Epoch 71/100\n",
      "86/86 - 0s - loss: 0.0787 - accuracy: 0.8957 - val_loss: 0.0973 - val_accuracy: 0.8730\n",
      "Epoch 72/100\n",
      "86/86 - 0s - loss: 0.0782 - accuracy: 0.8960 - val_loss: 0.0962 - val_accuracy: 0.8739\n",
      "Epoch 73/100\n",
      "86/86 - 0s - loss: 0.0775 - accuracy: 0.8973 - val_loss: 0.0959 - val_accuracy: 0.8711\n",
      "Epoch 74/100\n",
      "86/86 - 0s - loss: 0.0769 - accuracy: 0.8967 - val_loss: 0.0950 - val_accuracy: 0.8758\n",
      "Epoch 75/100\n",
      "86/86 - 0s - loss: 0.0764 - accuracy: 0.8985 - val_loss: 0.0945 - val_accuracy: 0.8768\n",
      "Epoch 76/100\n",
      "86/86 - 0s - loss: 0.0759 - accuracy: 0.8988 - val_loss: 0.0939 - val_accuracy: 0.8777\n",
      "Epoch 77/100\n",
      "86/86 - 0s - loss: 0.0754 - accuracy: 0.8993 - val_loss: 0.0934 - val_accuracy: 0.8777\n",
      "Epoch 78/100\n",
      "86/86 - 0s - loss: 0.0749 - accuracy: 0.8994 - val_loss: 0.0928 - val_accuracy: 0.8814\n",
      "Epoch 79/100\n",
      "86/86 - 0s - loss: 0.0745 - accuracy: 0.9008 - val_loss: 0.0925 - val_accuracy: 0.8786\n",
      "Epoch 80/100\n",
      "86/86 - 0s - loss: 0.0741 - accuracy: 0.9028 - val_loss: 0.0924 - val_accuracy: 0.8777\n",
      "Epoch 81/100\n",
      "86/86 - 0s - loss: 0.0737 - accuracy: 0.9014 - val_loss: 0.0917 - val_accuracy: 0.8824\n",
      "Epoch 82/100\n",
      "86/86 - 0s - loss: 0.0732 - accuracy: 0.9042 - val_loss: 0.0913 - val_accuracy: 0.8824\n",
      "Epoch 83/100\n"
     ]
    },
    {
     "name": "stdout",
     "output_type": "stream",
     "text": [
      "86/86 - 0s - loss: 0.0728 - accuracy: 0.9046 - val_loss: 0.0916 - val_accuracy: 0.8805\n",
      "Epoch 84/100\n",
      "86/86 - 0s - loss: 0.0724 - accuracy: 0.9041 - val_loss: 0.0908 - val_accuracy: 0.8824\n",
      "Epoch 85/100\n",
      "86/86 - 0s - loss: 0.0721 - accuracy: 0.9056 - val_loss: 0.0907 - val_accuracy: 0.8805\n",
      "Epoch 86/100\n",
      "86/86 - 0s - loss: 0.0717 - accuracy: 0.9053 - val_loss: 0.0900 - val_accuracy: 0.8814\n",
      "Epoch 87/100\n",
      "86/86 - 0s - loss: 0.0714 - accuracy: 0.9057 - val_loss: 0.0900 - val_accuracy: 0.8814\n",
      "Epoch 88/100\n",
      "86/86 - 0s - loss: 0.0710 - accuracy: 0.9058 - val_loss: 0.0897 - val_accuracy: 0.8824\n",
      "Epoch 89/100\n",
      "86/86 - 0s - loss: 0.0707 - accuracy: 0.9071 - val_loss: 0.0898 - val_accuracy: 0.8814\n",
      "Epoch 90/100\n",
      "86/86 - 0s - loss: 0.0703 - accuracy: 0.9071 - val_loss: 0.0893 - val_accuracy: 0.8805\n",
      "Epoch 91/100\n",
      "86/86 - 0s - loss: 0.0700 - accuracy: 0.9075 - val_loss: 0.0892 - val_accuracy: 0.8824\n",
      "Epoch 92/100\n",
      "86/86 - 0s - loss: 0.0697 - accuracy: 0.9084 - val_loss: 0.0899 - val_accuracy: 0.8805\n",
      "Epoch 93/100\n",
      "86/86 - 0s - loss: 0.0694 - accuracy: 0.9075 - val_loss: 0.0886 - val_accuracy: 0.8842\n",
      "Epoch 94/100\n",
      "86/86 - 0s - loss: 0.0692 - accuracy: 0.9086 - val_loss: 0.0883 - val_accuracy: 0.8824\n",
      "Epoch 95/100\n",
      "86/86 - 1s - loss: 0.0689 - accuracy: 0.9086 - val_loss: 0.0882 - val_accuracy: 0.8842\n",
      "Epoch 96/100\n",
      "86/86 - 0s - loss: 0.0686 - accuracy: 0.9088 - val_loss: 0.0885 - val_accuracy: 0.8833\n",
      "Epoch 97/100\n",
      "86/86 - 0s - loss: 0.0683 - accuracy: 0.9092 - val_loss: 0.0883 - val_accuracy: 0.8842\n"
     ]
    },
    {
     "data": {
      "text/plain": [
       "<tensorflow.python.keras.callbacks.History at 0x17bff727708>"
      ]
     },
     "execution_count": 5,
     "metadata": {},
     "output_type": "execute_result"
    }
   ],
   "source": [
    "input_size = 31\n",
    "output_size = 1\n",
    "\n",
    "hidden_layer_size = 50\n",
    "\n",
    "model = tf.keras.Sequential([\n",
    "    \n",
    "    tf.keras.layers.Dense(hidden_layer_size, activation='relu'), # 1st hidden layer\n",
    "    tf.keras.layers.Dense(hidden_layer_size, activation='relu'), # 2nd hidden layer\n",
    "    tf.keras.layers.Dense(hidden_layer_size, activation='relu'), # 3rd hidden layer\n",
    "    tf.keras.layers.Dense(hidden_layer_size, activation='relu'), # 4th hidden layer\n",
    "    tf.keras.layers.Dense(hidden_layer_size, activation='relu'), # 5th hidden layer\n",
    "    tf.keras.layers.Dense(hidden_layer_size, activation='relu'), # 6th hidden layer\n",
    "    # the final layer is no different, we just make sure to activate it with relu becoz of countinuous value\n",
    "    tf.keras.layers.Dense(output_size, activation='sigmoid') # output layer\n",
    "])\n",
    "\n",
    "#optimizer and loss function\n",
    "\n",
    "model.compile(optimizer = 'sgd', loss ='mean_squared_error', metrics = ['accuracy'] )\n",
    "\n",
    "# set the batch size\n",
    "batch_size = 100\n",
    "\n",
    "# set a maximum number of training epochs\n",
    "max_epochs = 100\n",
    "\n",
    "# set an early stopping mechanism\n",
    "# let's set patience=2, to be a bit tolerant against random validation loss increases\n",
    "early_stopping = tf.keras.callbacks.EarlyStopping(patience=2)\n",
    "\n",
    "# fit the model\n",
    "# note that this time the train, validation and test data are not iterable\n",
    "model.fit(train_inputs, # train inputs\n",
    "          train_targets, # train targets\n",
    "          batch_size=batch_size, # batch size\n",
    "          epochs=max_epochs, # epochs that we will train for (assuming early stopping doesn't kick in)\n",
    "          # callbacks are functions called by a task when a task is completed\n",
    "          # task here is to check if val_loss is increasing\n",
    "          callbacks=[early_stopping], # early stopping\n",
    "          validation_data=(validation_inputs, validation_targets), # validation data\n",
    "          verbose = 2 # making sure we get enough information about the training process\n",
    "          )  "
   ]
  },
  {
   "cell_type": "markdown",
   "metadata": {},
   "source": [
    "## predicting with test_data"
   ]
  },
  {
   "cell_type": "code",
   "execution_count": 6,
   "metadata": {},
   "outputs": [
    {
     "name": "stdout",
     "output_type": "stream",
     "text": [
      "34/34 [==============================] - 0s 3ms/step - loss: 0.0775 - accuracy: 0.8871\n"
     ]
    }
   ],
   "source": [
    "test_loss, test_accuracy = model.evaluate(test_inputs, test_targets)"
   ]
  },
  {
   "cell_type": "code",
   "execution_count": 7,
   "metadata": {},
   "outputs": [
    {
     "name": "stdout",
     "output_type": "stream",
     "text": [
      "\n",
      "Test loss: 0.08. Test accuracy: 88.71%\n"
     ]
    }
   ],
   "source": [
    "print('\\nTest loss: {0:.2f}. Test accuracy: {1:.2f}%'.format(test_loss, test_accuracy*100.))"
   ]
  },
  {
   "cell_type": "code",
   "execution_count": null,
   "metadata": {},
   "outputs": [],
   "source": []
  }
 ],
 "metadata": {
  "kernelspec": {
   "display_name": "Python [conda env:py3-TF2.0]",
   "language": "python",
   "name": "conda-env-py3-TF2.0-py"
  },
  "language_info": {
   "codemirror_mode": {
    "name": "ipython",
    "version": 3
   },
   "file_extension": ".py",
   "mimetype": "text/x-python",
   "name": "python",
   "nbconvert_exporter": "python",
   "pygments_lexer": "ipython3",
   "version": "3.7.7"
  }
 },
 "nbformat": 4,
 "nbformat_minor": 4
}
