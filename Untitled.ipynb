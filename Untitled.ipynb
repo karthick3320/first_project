{
 "cells": [
  {
   "cell_type": "code",
   "execution_count": 1,
   "metadata": {},
   "outputs": [],
   "source": [
    "import numpy as np\n",
    "import tensorflow as tf"
   ]
  },
  {
   "cell_type": "markdown",
   "metadata": {},
   "source": [
    "## train,validation,target"
   ]
  },
  {
   "cell_type": "code",
   "execution_count": 2,
   "metadata": {},
   "outputs": [],
   "source": [
    "npz = np.load('covid_data_train.npz')\n",
    "\n",
    "train_inputs,train_targets = npz['inputs'].astype(np.float),npz['targets'].astype(np.float)"
   ]
  },
  {
   "cell_type": "code",
   "execution_count": 3,
   "metadata": {},
   "outputs": [],
   "source": [
    "npz = np.load('covid_data_validation.npz')\n",
    "\n",
    "validation_inputs,validation_targets =npz['inputs'].astype(np.float),npz['targets'].astype(np.float)"
   ]
  },
  {
   "cell_type": "code",
   "execution_count": 4,
   "metadata": {},
   "outputs": [],
   "source": [
    "npz = np.load('covid_data_test.npz')\n",
    "\n",
    "test_inputs,test_targets = npz['inputs'].astype(np.float),npz['targets'].astype(np.float)"
   ]
  },
  {
   "cell_type": "markdown",
   "metadata": {},
   "source": [
    "## model"
   ]
  },
  {
   "cell_type": "code",
   "execution_count": 6,
   "metadata": {},
   "outputs": [
    {
     "name": "stdout",
     "output_type": "stream",
     "text": [
      "Epoch 1/100\n",
      "86/86 - 0s - loss: 0.2420 - accuracy: 0.6019 - val_loss: 0.2354 - val_accuracy: 0.6275\n",
      "Epoch 2/100\n",
      "86/86 - 0s - loss: 0.2331 - accuracy: 0.6137 - val_loss: 0.2289 - val_accuracy: 0.6265\n",
      "Epoch 3/100\n",
      "86/86 - 0s - loss: 0.2272 - accuracy: 0.6137 - val_loss: 0.2238 - val_accuracy: 0.6265\n",
      "Epoch 4/100\n",
      "86/86 - 0s - loss: 0.2215 - accuracy: 0.6142 - val_loss: 0.2187 - val_accuracy: 0.6284\n",
      "Epoch 5/100\n",
      "86/86 - 0s - loss: 0.2150 - accuracy: 0.6209 - val_loss: 0.2132 - val_accuracy: 0.6471\n",
      "Epoch 6/100\n",
      "86/86 - 0s - loss: 0.2075 - accuracy: 0.6466 - val_loss: 0.2071 - val_accuracy: 0.6723\n",
      "Epoch 7/100\n",
      "86/86 - 0s - loss: 0.1993 - accuracy: 0.6845 - val_loss: 0.2007 - val_accuracy: 0.7049\n",
      "Epoch 8/100\n",
      "86/86 - 0s - loss: 0.1910 - accuracy: 0.7180 - val_loss: 0.1946 - val_accuracy: 0.7218\n",
      "Epoch 9/100\n",
      "86/86 - 0s - loss: 0.1829 - accuracy: 0.7411 - val_loss: 0.1889 - val_accuracy: 0.7292\n",
      "Epoch 10/100\n",
      "86/86 - 0s - loss: 0.1753 - accuracy: 0.7572 - val_loss: 0.1837 - val_accuracy: 0.7339\n",
      "Epoch 11/100\n",
      "86/86 - 0s - loss: 0.1685 - accuracy: 0.7717 - val_loss: 0.1791 - val_accuracy: 0.7395\n",
      "Epoch 12/100\n",
      "86/86 - 0s - loss: 0.1622 - accuracy: 0.7804 - val_loss: 0.1750 - val_accuracy: 0.7488\n",
      "Epoch 13/100\n",
      "86/86 - 0s - loss: 0.1564 - accuracy: 0.7900 - val_loss: 0.1711 - val_accuracy: 0.7460\n",
      "Epoch 14/100\n",
      "86/86 - 0s - loss: 0.1511 - accuracy: 0.7965 - val_loss: 0.1677 - val_accuracy: 0.7526\n",
      "Epoch 15/100\n",
      "86/86 - 0s - loss: 0.1463 - accuracy: 0.8019 - val_loss: 0.1642 - val_accuracy: 0.7610\n",
      "Epoch 16/100\n",
      "86/86 - 0s - loss: 0.1419 - accuracy: 0.8082 - val_loss: 0.1612 - val_accuracy: 0.7647\n",
      "Epoch 17/100\n",
      "86/86 - 0s - loss: 0.1379 - accuracy: 0.8138 - val_loss: 0.1585 - val_accuracy: 0.7712\n",
      "Epoch 18/100\n",
      "86/86 - 0s - loss: 0.1343 - accuracy: 0.8180 - val_loss: 0.1562 - val_accuracy: 0.7740\n",
      "Epoch 19/100\n",
      "86/86 - 0s - loss: 0.1310 - accuracy: 0.8236 - val_loss: 0.1538 - val_accuracy: 0.7796\n",
      "Epoch 20/100\n",
      "86/86 - 0s - loss: 0.1280 - accuracy: 0.8281 - val_loss: 0.1514 - val_accuracy: 0.7871\n",
      "Epoch 21/100\n",
      "86/86 - 0s - loss: 0.1253 - accuracy: 0.8328 - val_loss: 0.1494 - val_accuracy: 0.7918\n",
      "Epoch 22/100\n",
      "86/86 - 0s - loss: 0.1229 - accuracy: 0.8369 - val_loss: 0.1475 - val_accuracy: 0.7946\n",
      "Epoch 23/100\n",
      "86/86 - 0s - loss: 0.1206 - accuracy: 0.8403 - val_loss: 0.1456 - val_accuracy: 0.7993\n",
      "Epoch 24/100\n",
      "86/86 - 0s - loss: 0.1186 - accuracy: 0.8445 - val_loss: 0.1440 - val_accuracy: 0.8058\n",
      "Epoch 25/100\n",
      "86/86 - 0s - loss: 0.1167 - accuracy: 0.8466 - val_loss: 0.1423 - val_accuracy: 0.8105\n",
      "Epoch 26/100\n",
      "86/86 - 0s - loss: 0.1149 - accuracy: 0.8470 - val_loss: 0.1413 - val_accuracy: 0.8105\n",
      "Epoch 27/100\n",
      "86/86 - 0s - loss: 0.1134 - accuracy: 0.8517 - val_loss: 0.1395 - val_accuracy: 0.8133\n",
      "Epoch 28/100\n",
      "86/86 - 0s - loss: 0.1118 - accuracy: 0.8524 - val_loss: 0.1379 - val_accuracy: 0.8179\n",
      "Epoch 29/100\n",
      "86/86 - 0s - loss: 0.1103 - accuracy: 0.8537 - val_loss: 0.1366 - val_accuracy: 0.8142\n",
      "Epoch 30/100\n",
      "86/86 - 0s - loss: 0.1089 - accuracy: 0.8565 - val_loss: 0.1351 - val_accuracy: 0.8189\n",
      "Epoch 31/100\n",
      "86/86 - 0s - loss: 0.1076 - accuracy: 0.8575 - val_loss: 0.1337 - val_accuracy: 0.8189\n",
      "Epoch 32/100\n",
      "86/86 - 0s - loss: 0.1062 - accuracy: 0.8598 - val_loss: 0.1331 - val_accuracy: 0.8133\n",
      "Epoch 33/100\n",
      "86/86 - 0s - loss: 0.1051 - accuracy: 0.8613 - val_loss: 0.1313 - val_accuracy: 0.8207\n",
      "Epoch 34/100\n",
      "86/86 - 0s - loss: 0.1038 - accuracy: 0.8620 - val_loss: 0.1297 - val_accuracy: 0.8189\n",
      "Epoch 35/100\n",
      "86/86 - 0s - loss: 0.1025 - accuracy: 0.8633 - val_loss: 0.1284 - val_accuracy: 0.8207\n",
      "Epoch 36/100\n",
      "86/86 - 0s - loss: 0.1014 - accuracy: 0.8636 - val_loss: 0.1269 - val_accuracy: 0.8235\n",
      "Epoch 37/100\n",
      "86/86 - 0s - loss: 0.1001 - accuracy: 0.8656 - val_loss: 0.1259 - val_accuracy: 0.8207\n",
      "Epoch 38/100\n",
      "86/86 - 0s - loss: 0.0989 - accuracy: 0.8675 - val_loss: 0.1244 - val_accuracy: 0.8273\n",
      "Epoch 39/100\n",
      "86/86 - 0s - loss: 0.0978 - accuracy: 0.8693 - val_loss: 0.1230 - val_accuracy: 0.8282\n",
      "Epoch 40/100\n",
      "86/86 - 0s - loss: 0.0966 - accuracy: 0.8710 - val_loss: 0.1216 - val_accuracy: 0.8319\n",
      "Epoch 41/100\n",
      "86/86 - 0s - loss: 0.0954 - accuracy: 0.8727 - val_loss: 0.1204 - val_accuracy: 0.8347\n",
      "Epoch 42/100\n",
      "86/86 - 0s - loss: 0.0942 - accuracy: 0.8746 - val_loss: 0.1189 - val_accuracy: 0.8357\n",
      "Epoch 43/100\n",
      "86/86 - 0s - loss: 0.0930 - accuracy: 0.8754 - val_loss: 0.1173 - val_accuracy: 0.8385\n",
      "Epoch 44/100\n",
      "86/86 - 0s - loss: 0.0917 - accuracy: 0.8760 - val_loss: 0.1159 - val_accuracy: 0.8403\n",
      "Epoch 45/100\n",
      "86/86 - 0s - loss: 0.0906 - accuracy: 0.8773 - val_loss: 0.1144 - val_accuracy: 0.8385\n",
      "Epoch 46/100\n",
      "86/86 - 0s - loss: 0.0893 - accuracy: 0.8773 - val_loss: 0.1130 - val_accuracy: 0.8394\n",
      "Epoch 47/100\n",
      "86/86 - 0s - loss: 0.0881 - accuracy: 0.8789 - val_loss: 0.1119 - val_accuracy: 0.8357\n",
      "Epoch 48/100\n",
      "86/86 - 0s - loss: 0.0869 - accuracy: 0.8798 - val_loss: 0.1103 - val_accuracy: 0.8469\n",
      "Epoch 49/100\n",
      "86/86 - 0s - loss: 0.0858 - accuracy: 0.8824 - val_loss: 0.1091 - val_accuracy: 0.8403\n",
      "Epoch 50/100\n",
      "86/86 - 0s - loss: 0.0847 - accuracy: 0.8830 - val_loss: 0.1077 - val_accuracy: 0.8422\n",
      "Epoch 51/100\n",
      "86/86 - 0s - loss: 0.0836 - accuracy: 0.8852 - val_loss: 0.1066 - val_accuracy: 0.8450\n",
      "Epoch 52/100\n",
      "86/86 - 0s - loss: 0.0825 - accuracy: 0.8864 - val_loss: 0.1054 - val_accuracy: 0.8469\n",
      "Epoch 53/100\n",
      "86/86 - 0s - loss: 0.0815 - accuracy: 0.8868 - val_loss: 0.1043 - val_accuracy: 0.8506\n",
      "Epoch 54/100\n",
      "86/86 - 0s - loss: 0.0805 - accuracy: 0.8885 - val_loss: 0.1031 - val_accuracy: 0.8543\n",
      "Epoch 55/100\n",
      "86/86 - 0s - loss: 0.0795 - accuracy: 0.8899 - val_loss: 0.1023 - val_accuracy: 0.8571\n",
      "Epoch 56/100\n",
      "86/86 - 0s - loss: 0.0787 - accuracy: 0.8913 - val_loss: 0.1015 - val_accuracy: 0.8581\n",
      "Epoch 57/100\n",
      "86/86 - 0s - loss: 0.0779 - accuracy: 0.8924 - val_loss: 0.1005 - val_accuracy: 0.8618\n",
      "Epoch 58/100\n",
      "86/86 - 0s - loss: 0.0772 - accuracy: 0.8943 - val_loss: 0.0995 - val_accuracy: 0.8618\n",
      "Epoch 59/100\n",
      "86/86 - 0s - loss: 0.0764 - accuracy: 0.8936 - val_loss: 0.0988 - val_accuracy: 0.8637\n",
      "Epoch 60/100\n",
      "86/86 - 0s - loss: 0.0758 - accuracy: 0.8943 - val_loss: 0.0979 - val_accuracy: 0.8646\n",
      "Epoch 61/100\n",
      "86/86 - 0s - loss: 0.0751 - accuracy: 0.8945 - val_loss: 0.0973 - val_accuracy: 0.8655\n",
      "Epoch 62/100\n",
      "86/86 - 0s - loss: 0.0744 - accuracy: 0.8965 - val_loss: 0.0968 - val_accuracy: 0.8655\n",
      "Epoch 63/100\n",
      "86/86 - 0s - loss: 0.0738 - accuracy: 0.8969 - val_loss: 0.0962 - val_accuracy: 0.8674\n",
      "Epoch 64/100\n",
      "86/86 - 0s - loss: 0.0732 - accuracy: 0.8992 - val_loss: 0.0952 - val_accuracy: 0.8683\n",
      "Epoch 65/100\n",
      "86/86 - 0s - loss: 0.0727 - accuracy: 0.8983 - val_loss: 0.0948 - val_accuracy: 0.8693\n",
      "Epoch 66/100\n",
      "86/86 - 0s - loss: 0.0722 - accuracy: 0.9004 - val_loss: 0.0946 - val_accuracy: 0.8702\n",
      "Epoch 67/100\n",
      "86/86 - 0s - loss: 0.0717 - accuracy: 0.9006 - val_loss: 0.0940 - val_accuracy: 0.8711\n",
      "Epoch 68/100\n",
      "86/86 - 0s - loss: 0.0713 - accuracy: 0.9018 - val_loss: 0.0936 - val_accuracy: 0.8693\n",
      "Epoch 69/100\n",
      "86/86 - 0s - loss: 0.0708 - accuracy: 0.9034 - val_loss: 0.0937 - val_accuracy: 0.8730\n",
      "Epoch 70/100\n",
      "86/86 - 0s - loss: 0.0704 - accuracy: 0.9039 - val_loss: 0.0930 - val_accuracy: 0.8739\n",
      "Epoch 71/100\n",
      "86/86 - 0s - loss: 0.0700 - accuracy: 0.9043 - val_loss: 0.0927 - val_accuracy: 0.8749\n",
      "Epoch 72/100\n",
      "86/86 - 0s - loss: 0.0696 - accuracy: 0.9057 - val_loss: 0.0920 - val_accuracy: 0.8674\n",
      "Epoch 73/100\n",
      "86/86 - 0s - loss: 0.0693 - accuracy: 0.9057 - val_loss: 0.0916 - val_accuracy: 0.8674\n",
      "Epoch 74/100\n",
      "86/86 - 0s - loss: 0.0689 - accuracy: 0.9074 - val_loss: 0.0920 - val_accuracy: 0.8739\n",
      "Epoch 75/100\n",
      "86/86 - 0s - loss: 0.0686 - accuracy: 0.9058 - val_loss: 0.0912 - val_accuracy: 0.8721\n",
      "Epoch 76/100\n",
      "86/86 - 0s - loss: 0.0683 - accuracy: 0.9072 - val_loss: 0.0909 - val_accuracy: 0.8721\n",
      "Epoch 77/100\n",
      "86/86 - 0s - loss: 0.0679 - accuracy: 0.9081 - val_loss: 0.0906 - val_accuracy: 0.8702\n",
      "Epoch 78/100\n",
      "86/86 - 0s - loss: 0.0677 - accuracy: 0.9097 - val_loss: 0.0903 - val_accuracy: 0.8711\n",
      "Epoch 79/100\n",
      "86/86 - 0s - loss: 0.0673 - accuracy: 0.9099 - val_loss: 0.0912 - val_accuracy: 0.8749\n",
      "Epoch 80/100\n",
      "86/86 - 0s - loss: 0.0671 - accuracy: 0.9104 - val_loss: 0.0904 - val_accuracy: 0.8749\n"
     ]
    },
    {
     "data": {
      "text/plain": [
       "<tensorflow.python.keras.callbacks.History at 0x1a5cd574948>"
      ]
     },
     "execution_count": 6,
     "metadata": {},
     "output_type": "execute_result"
    }
   ],
   "source": [
    "input_size = 31\n",
    "output_size = 1\n",
    "\n",
    "hidden_layer_size = 50\n",
    "\n",
    "model = tf.keras.Sequential([\n",
    "    \n",
    "    tf.keras.layers.Dense(hidden_layer_size, activation='relu'), # 1st hidden layer\n",
    "    tf.keras.layers.Dense(hidden_layer_size, activation='relu'), # 2nd hidden layer\n",
    "    tf.keras.layers.Dense(hidden_layer_size, activation='relu'), # 3rd hidden layer\n",
    "    tf.keras.layers.Dense(hidden_layer_size, activation='relu'), # 4th hidden layer\n",
    "    tf.keras.layers.Dense(hidden_layer_size, activation='relu'), # 5th hidden layer\n",
    "    tf.keras.layers.Dense(hidden_layer_size, activation='relu'), # 6th hidden layer\n",
    "    # the final layer is no different, we just make sure to activate it with relu becoz of countinuous value\n",
    "    tf.keras.layers.Dense(output_size, activation='sigmoid') # output layer\n",
    "])\n",
    "\n",
    "#optimizer and loss function\n",
    "\n",
    "model.compile(optimizer = 'sgd', loss ='mean_squared_error', metrics = ['accuracy'] )\n",
    "\n",
    "# set the batch size\n",
    "batch_size = 100\n",
    "\n",
    "# set a maximum number of training epochs\n",
    "max_epochs = 100\n",
    "\n",
    "# set an early stopping mechanism\n",
    "# let's set patience=2, to be a bit tolerant against random validation loss increases\n",
    "early_stopping = tf.keras.callbacks.EarlyStopping(patience=2)\n",
    "\n",
    "# fit the model\n",
    "# note that this time the train, validation and test data are not iterable\n",
    "model.fit(train_inputs, # train inputs\n",
    "          train_targets, # train targets\n",
    "          batch_size=batch_size, # batch size\n",
    "          epochs=max_epochs, # epochs that we will train for (assuming early stopping doesn't kick in)\n",
    "          # callbacks are functions called by a task when a task is completed\n",
    "          # task here is to check if val_loss is increasing\n",
    "          callbacks=[early_stopping], # early stopping\n",
    "          validation_data=(validation_inputs, validation_targets), # validation data\n",
    "          verbose = 2 # making sure we get enough information about the training process\n",
    "          )  "
   ]
  },
  {
   "cell_type": "code",
   "execution_count": 7,
   "metadata": {},
   "outputs": [
    {
     "name": "stdout",
     "output_type": "stream",
     "text": [
      "34/34 [==============================] - 0s 3ms/step - loss: 0.0744 - accuracy: 0.8927\n"
     ]
    }
   ],
   "source": [
    "test_loss, test_accuracy = model.evaluate(test_inputs, test_targets)"
   ]
  },
  {
   "cell_type": "code",
   "execution_count": 8,
   "metadata": {},
   "outputs": [
    {
     "name": "stdout",
     "output_type": "stream",
     "text": [
      "\n",
      "Test loss: 0.07. Test accuracy: 89.27%\n"
     ]
    }
   ],
   "source": [
    "print('\\nTest loss: {0:.2f}. Test accuracy: {1:.2f}%'.format(test_loss, test_accuracy*100.))"
   ]
  },
  {
   "cell_type": "code",
   "execution_count": null,
   "metadata": {},
   "outputs": [],
   "source": []
  }
 ],
 "metadata": {
  "kernelspec": {
   "display_name": "Python [conda env:py3-TF2.0]",
   "language": "python",
   "name": "conda-env-py3-TF2.0-py"
  },
  "language_info": {
   "codemirror_mode": {
    "name": "ipython",
    "version": 3
   },
   "file_extension": ".py",
   "mimetype": "text/x-python",
   "name": "python",
   "nbconvert_exporter": "python",
   "pygments_lexer": "ipython3",
   "version": "3.7.7"
  }
 },
 "nbformat": 4,
 "nbformat_minor": 4
}
