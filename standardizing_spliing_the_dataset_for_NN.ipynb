{
 "cells": [
  {
   "cell_type": "markdown",
   "metadata": {},
   "source": [
    "## importing"
   ]
  },
  {
   "cell_type": "code",
   "execution_count": 1,
   "metadata": {},
   "outputs": [],
   "source": [
    "import pandas as pd\n",
    "import numpy as np"
   ]
  },
  {
   "cell_type": "code",
   "execution_count": 2,
   "metadata": {},
   "outputs": [
    {
     "data": {
      "text/html": [
       "<div>\n",
       "<style scoped>\n",
       "    .dataframe tbody tr th:only-of-type {\n",
       "        vertical-align: middle;\n",
       "    }\n",
       "\n",
       "    .dataframe tbody tr th {\n",
       "        vertical-align: top;\n",
       "    }\n",
       "\n",
       "    .dataframe thead th {\n",
       "        text-align: right;\n",
       "    }\n",
       "</style>\n",
       "<table border=\"1\" class=\"dataframe\">\n",
       "  <thead>\n",
       "    <tr style=\"text-align: right;\">\n",
       "      <th></th>\n",
       "      <th>Bengaluru</th>\n",
       "      <th>Bhubaneshwar</th>\n",
       "      <th>Chandigarh</th>\n",
       "      <th>Chennai</th>\n",
       "      <th>Delhi</th>\n",
       "      <th>Female</th>\n",
       "      <th>Male</th>\n",
       "      <th>Married</th>\n",
       "      <th>Children</th>\n",
       "      <th>occ_group1</th>\n",
       "      <th>...</th>\n",
       "      <th>Diuresis</th>\n",
       "      <th>Platelets</th>\n",
       "      <th>HBB</th>\n",
       "      <th>d-dimer</th>\n",
       "      <th>Heart rate</th>\n",
       "      <th>HDL cholesterol</th>\n",
       "      <th>Charlson Index</th>\n",
       "      <th>Blood Glucose</th>\n",
       "      <th>FT/month</th>\n",
       "      <th>Infect_Prob</th>\n",
       "    </tr>\n",
       "  </thead>\n",
       "  <tbody>\n",
       "    <tr>\n",
       "      <th>0</th>\n",
       "      <td>0</td>\n",
       "      <td>1</td>\n",
       "      <td>0</td>\n",
       "      <td>0</td>\n",
       "      <td>0</td>\n",
       "      <td>1</td>\n",
       "      <td>0</td>\n",
       "      <td>1</td>\n",
       "      <td>1.0</td>\n",
       "      <td>0</td>\n",
       "      <td>...</td>\n",
       "      <td>441.0</td>\n",
       "      <td>154.0</td>\n",
       "      <td>93.0</td>\n",
       "      <td>233.0</td>\n",
       "      <td>82.0</td>\n",
       "      <td>58.0</td>\n",
       "      <td>27</td>\n",
       "      <td>7</td>\n",
       "      <td>2.0</td>\n",
       "      <td>49.135010</td>\n",
       "    </tr>\n",
       "    <tr>\n",
       "      <th>1</th>\n",
       "      <td>0</td>\n",
       "      <td>1</td>\n",
       "      <td>0</td>\n",
       "      <td>0</td>\n",
       "      <td>0</td>\n",
       "      <td>1</td>\n",
       "      <td>0</td>\n",
       "      <td>1</td>\n",
       "      <td>2.0</td>\n",
       "      <td>0</td>\n",
       "      <td>...</td>\n",
       "      <td>276.0</td>\n",
       "      <td>121.0</td>\n",
       "      <td>56.0</td>\n",
       "      <td>328.0</td>\n",
       "      <td>89.0</td>\n",
       "      <td>68.0</td>\n",
       "      <td>5</td>\n",
       "      <td>6</td>\n",
       "      <td>1.0</td>\n",
       "      <td>51.147880</td>\n",
       "    </tr>\n",
       "    <tr>\n",
       "      <th>2</th>\n",
       "      <td>0</td>\n",
       "      <td>1</td>\n",
       "      <td>0</td>\n",
       "      <td>0</td>\n",
       "      <td>0</td>\n",
       "      <td>1</td>\n",
       "      <td>0</td>\n",
       "      <td>0</td>\n",
       "      <td>1.0</td>\n",
       "      <td>1</td>\n",
       "      <td>...</td>\n",
       "      <td>416.0</td>\n",
       "      <td>124.0</td>\n",
       "      <td>137.0</td>\n",
       "      <td>213.0</td>\n",
       "      <td>77.0</td>\n",
       "      <td>43.0</td>\n",
       "      <td>40</td>\n",
       "      <td>6</td>\n",
       "      <td>1.0</td>\n",
       "      <td>73.224000</td>\n",
       "    </tr>\n",
       "    <tr>\n",
       "      <th>3</th>\n",
       "      <td>0</td>\n",
       "      <td>1</td>\n",
       "      <td>0</td>\n",
       "      <td>0</td>\n",
       "      <td>0</td>\n",
       "      <td>1</td>\n",
       "      <td>0</td>\n",
       "      <td>1</td>\n",
       "      <td>1.0</td>\n",
       "      <td>1</td>\n",
       "      <td>...</td>\n",
       "      <td>410.0</td>\n",
       "      <td>98.0</td>\n",
       "      <td>167.0</td>\n",
       "      <td>275.0</td>\n",
       "      <td>64.0</td>\n",
       "      <td>60.0</td>\n",
       "      <td>27</td>\n",
       "      <td>7</td>\n",
       "      <td>1.0</td>\n",
       "      <td>48.779225</td>\n",
       "    </tr>\n",
       "    <tr>\n",
       "      <th>4</th>\n",
       "      <td>0</td>\n",
       "      <td>1</td>\n",
       "      <td>0</td>\n",
       "      <td>0</td>\n",
       "      <td>0</td>\n",
       "      <td>1</td>\n",
       "      <td>0</td>\n",
       "      <td>0</td>\n",
       "      <td>2.0</td>\n",
       "      <td>1</td>\n",
       "      <td>...</td>\n",
       "      <td>390.0</td>\n",
       "      <td>21.0</td>\n",
       "      <td>153.0</td>\n",
       "      <td>331.0</td>\n",
       "      <td>71.0</td>\n",
       "      <td>64.0</td>\n",
       "      <td>32</td>\n",
       "      <td>7</td>\n",
       "      <td>1.0</td>\n",
       "      <td>87.868800</td>\n",
       "    </tr>\n",
       "  </tbody>\n",
       "</table>\n",
       "<p>5 rows × 32 columns</p>\n",
       "</div>"
      ],
      "text/plain": [
       "   Bengaluru  Bhubaneshwar  Chandigarh  Chennai  Delhi  Female  Male  Married  \\\n",
       "0          0             1           0        0      0       1     0        1   \n",
       "1          0             1           0        0      0       1     0        1   \n",
       "2          0             1           0        0      0       1     0        0   \n",
       "3          0             1           0        0      0       1     0        1   \n",
       "4          0             1           0        0      0       1     0        0   \n",
       "\n",
       "   Children  occ_group1  ...  Diuresis  Platelets    HBB  d-dimer  Heart rate  \\\n",
       "0       1.0           0  ...     441.0      154.0   93.0    233.0        82.0   \n",
       "1       2.0           0  ...     276.0      121.0   56.0    328.0        89.0   \n",
       "2       1.0           1  ...     416.0      124.0  137.0    213.0        77.0   \n",
       "3       1.0           1  ...     410.0       98.0  167.0    275.0        64.0   \n",
       "4       2.0           1  ...     390.0       21.0  153.0    331.0        71.0   \n",
       "\n",
       "   HDL cholesterol  Charlson Index  Blood Glucose  FT/month  Infect_Prob  \n",
       "0             58.0              27              7       2.0    49.135010  \n",
       "1             68.0               5              6       1.0    51.147880  \n",
       "2             43.0              40              6       1.0    73.224000  \n",
       "3             60.0              27              7       1.0    48.779225  \n",
       "4             64.0              32              7       1.0    87.868800  \n",
       "\n",
       "[5 rows x 32 columns]"
      ]
     },
     "execution_count": 2,
     "metadata": {},
     "output_type": "execute_result"
    }
   ],
   "source": [
    "unscaled_data = pd.read_csv(\"unscaled_inputs.csv\")\n",
    "unscaled_data.head()"
   ]
  },
  {
   "cell_type": "code",
   "execution_count": 3,
   "metadata": {},
   "outputs": [],
   "source": [
    "pd.options.display.max_columns = None\n",
    "pd.options.display.max_rows = None"
   ]
  },
  {
   "cell_type": "code",
   "execution_count": 4,
   "metadata": {},
   "outputs": [],
   "source": [
    "unscaled_inputs = unscaled_data.iloc[:,:-1]\n",
    "\n",
    "targets = unscaled_data['Infect_Prob']"
   ]
  },
  {
   "cell_type": "markdown",
   "metadata": {},
   "source": [
    "## standardizing the data"
   ]
  },
  {
   "cell_type": "code",
   "execution_count": 5,
   "metadata": {},
   "outputs": [],
   "source": [
    "from sklearn.preprocessing import StandardScaler\n",
    "scaler = StandardScaler()"
   ]
  },
  {
   "cell_type": "markdown",
   "metadata": {},
   "source": [
    "## custome scaler"
   ]
  },
  {
   "cell_type": "code",
   "execution_count": 6,
   "metadata": {},
   "outputs": [],
   "source": [
    "# import the libraries needed to create the Custom Scaler\n",
    "# note that all of them are a part of the sklearn package\n",
    "# moreover, one of them is actually the StandardScaler module, \n",
    "# so you can imagine that the Custom Scaler is build on it\n",
    "\n",
    "from sklearn.base import BaseEstimator, TransformerMixin\n",
    "from sklearn.preprocessing import StandardScaler\n",
    "\n",
    "# create the Custom Scaler class\n",
    "\n",
    "class CustomScaler(BaseEstimator,TransformerMixin): \n",
    "    \n",
    "    # init or what information we need to declare a CustomScaler object\n",
    "    # and what is calculated/declared as we do\n",
    "    \n",
    "    def __init__(self,columns,copy=True,with_mean=True,with_std=True):\n",
    "        \n",
    "        # scaler is nothing but a Standard Scaler object\n",
    "        self.scaler = StandardScaler(copy,with_mean,with_std)\n",
    "        # with some columns 'twist'\n",
    "        self.columns = columns\n",
    "        self.mean_ = None\n",
    "        self.var_ = None\n",
    "        \n",
    "    \n",
    "    # the fit method, which, again based on StandardScale\n",
    "    \n",
    "    def fit(self, X, y=None):\n",
    "        self.scaler.fit(X[self.columns], y)\n",
    "        self.mean_ = np.mean(X[self.columns])\n",
    "        self.var_ = np.var(X[self.columns])\n",
    "        return self\n",
    "    \n",
    "    # the transform method which does the actual scaling\n",
    "\n",
    "    def transform(self, X, y=None, copy=None):\n",
    "        \n",
    "        # record the initial order of the columns\n",
    "        init_col_order = X.columns\n",
    "        \n",
    "        # scale all features that you chose when creating the instance of the class\n",
    "        X_scaled = pd.DataFrame(self.scaler.transform(X[self.columns]), columns=self.columns)\n",
    "        \n",
    "        # declare a variable containing all information that was not scaled\n",
    "        X_not_scaled = X.loc[:,~X.columns.isin(self.columns)]\n",
    "        \n",
    "        # return a data frame which contains all scaled features and all 'not scaled' features\n",
    "        # use the original order (that you recorded in the beginning)\n",
    "        return pd.concat([X_not_scaled, X_scaled], axis=1)[init_col_order]"
   ]
  },
  {
   "cell_type": "code",
   "execution_count": 7,
   "metadata": {},
   "outputs": [
    {
     "data": {
      "text/plain": [
       "array(['Bengaluru', 'Bhubaneshwar', 'Chandigarh', 'Chennai', 'Delhi',\n",
       "       'Female', 'Male', 'Married', 'Children', 'occ_group1',\n",
       "       'occ_group2', 'safe_transport', 'unsafe_transport', 'cases/1M',\n",
       "       'Deaths/1M', 'heart_disease', 'No_disease', 'Age', 'Coma score',\n",
       "       'Pulmonary score', 'Normal_pressure', 'High_pressure', 'Diuresis',\n",
       "       'Platelets', 'HBB', 'd-dimer', 'Heart rate', 'HDL cholesterol',\n",
       "       'Charlson Index', 'Blood Glucose', 'FT/month'], dtype=object)"
      ]
     },
     "execution_count": 7,
     "metadata": {},
     "output_type": "execute_result"
    }
   ],
   "source": [
    "unscaled_inputs.columns.values"
   ]
  },
  {
   "cell_type": "code",
   "execution_count": 8,
   "metadata": {},
   "outputs": [],
   "source": [
    "columns_to_scale = ['Children','cases/1M','Deaths/1M','Age', 'Coma score','Pulmonary score','Diuresis','Platelets', 'HBB', 'd-dimer', 'Heart rate', 'HDL cholesterol','Charlson Index', 'Blood Glucose', 'FT/month']"
   ]
  },
  {
   "cell_type": "code",
   "execution_count": 9,
   "metadata": {},
   "outputs": [
    {
     "name": "stderr",
     "output_type": "stream",
     "text": [
      "D:\\karthik\\me\\anaconda3\\envs\\py3-TF2.0\\lib\\site-packages\\sklearn\\utils\\validation.py:71: FutureWarning: Pass copy=True, with_mean=True, with_std=True as keyword args. From version 0.25 passing these as positional arguments will result in an error\n",
      "  FutureWarning)\n"
     ]
    }
   ],
   "source": [
    "# declare a scaler object, specifying the columns you want to scale\n",
    "scaler = CustomScaler(columns_to_scale)"
   ]
  },
  {
   "cell_type": "code",
   "execution_count": 10,
   "metadata": {},
   "outputs": [
    {
     "name": "stderr",
     "output_type": "stream",
     "text": [
      "D:\\karthik\\me\\anaconda3\\envs\\py3-TF2.0\\lib\\site-packages\\sklearn\\base.py:213: FutureWarning: From version 0.24, get_params will raise an AttributeError if a parameter cannot be retrieved as an instance attribute. Previously it would return None.\n",
      "  FutureWarning)\n"
     ]
    },
    {
     "data": {
      "text/plain": [
       "CustomScaler(columns=['Children', 'cases/1M', 'Deaths/1M', 'Age', 'Coma score',\n",
       "                      'Pulmonary score', 'Diuresis', 'Platelets', 'HBB',\n",
       "                      'd-dimer', 'Heart rate', 'HDL cholesterol',\n",
       "                      'Charlson Index', 'Blood Glucose', 'FT/month'],\n",
       "             copy=None, with_mean=None, with_std=None)"
      ]
     },
     "execution_count": 10,
     "metadata": {},
     "output_type": "execute_result"
    }
   ],
   "source": [
    "scaler.fit(unscaled_inputs)"
   ]
  },
  {
   "cell_type": "code",
   "execution_count": 11,
   "metadata": {},
   "outputs": [
    {
     "data": {
      "text/html": [
       "<div>\n",
       "<style scoped>\n",
       "    .dataframe tbody tr th:only-of-type {\n",
       "        vertical-align: middle;\n",
       "    }\n",
       "\n",
       "    .dataframe tbody tr th {\n",
       "        vertical-align: top;\n",
       "    }\n",
       "\n",
       "    .dataframe thead th {\n",
       "        text-align: right;\n",
       "    }\n",
       "</style>\n",
       "<table border=\"1\" class=\"dataframe\">\n",
       "  <thead>\n",
       "    <tr style=\"text-align: right;\">\n",
       "      <th></th>\n",
       "      <th>Bengaluru</th>\n",
       "      <th>Bhubaneshwar</th>\n",
       "      <th>Chandigarh</th>\n",
       "      <th>Chennai</th>\n",
       "      <th>Delhi</th>\n",
       "      <th>Female</th>\n",
       "      <th>Male</th>\n",
       "      <th>Married</th>\n",
       "      <th>Children</th>\n",
       "      <th>occ_group1</th>\n",
       "      <th>occ_group2</th>\n",
       "      <th>safe_transport</th>\n",
       "      <th>unsafe_transport</th>\n",
       "      <th>cases/1M</th>\n",
       "      <th>Deaths/1M</th>\n",
       "      <th>heart_disease</th>\n",
       "      <th>No_disease</th>\n",
       "      <th>Age</th>\n",
       "      <th>Coma score</th>\n",
       "      <th>Pulmonary score</th>\n",
       "      <th>Normal_pressure</th>\n",
       "      <th>High_pressure</th>\n",
       "      <th>Diuresis</th>\n",
       "      <th>Platelets</th>\n",
       "      <th>HBB</th>\n",
       "      <th>d-dimer</th>\n",
       "      <th>Heart rate</th>\n",
       "      <th>HDL cholesterol</th>\n",
       "      <th>Charlson Index</th>\n",
       "      <th>Blood Glucose</th>\n",
       "      <th>FT/month</th>\n",
       "    </tr>\n",
       "  </thead>\n",
       "  <tbody>\n",
       "    <tr>\n",
       "      <th>0</th>\n",
       "      <td>0</td>\n",
       "      <td>1</td>\n",
       "      <td>0</td>\n",
       "      <td>0</td>\n",
       "      <td>0</td>\n",
       "      <td>1</td>\n",
       "      <td>0</td>\n",
       "      <td>1</td>\n",
       "      <td>-0.038658</td>\n",
       "      <td>0</td>\n",
       "      <td>1</td>\n",
       "      <td>0</td>\n",
       "      <td>1</td>\n",
       "      <td>-0.472554</td>\n",
       "      <td>-0.612505</td>\n",
       "      <td>1</td>\n",
       "      <td>0</td>\n",
       "      <td>1.691367</td>\n",
       "      <td>-0.272711</td>\n",
       "      <td>1.336249</td>\n",
       "      <td>1</td>\n",
       "      <td>0</td>\n",
       "      <td>1.715549</td>\n",
       "      <td>1.654509</td>\n",
       "      <td>-0.420281</td>\n",
       "      <td>-1.024927</td>\n",
       "      <td>0.507079</td>\n",
       "      <td>0.515137</td>\n",
       "      <td>0.589446</td>\n",
       "      <td>1.418137</td>\n",
       "      <td>1.286246</td>\n",
       "    </tr>\n",
       "    <tr>\n",
       "      <th>1</th>\n",
       "      <td>0</td>\n",
       "      <td>1</td>\n",
       "      <td>0</td>\n",
       "      <td>0</td>\n",
       "      <td>0</td>\n",
       "      <td>1</td>\n",
       "      <td>0</td>\n",
       "      <td>1</td>\n",
       "      <td>1.172395</td>\n",
       "      <td>0</td>\n",
       "      <td>1</td>\n",
       "      <td>1</td>\n",
       "      <td>0</td>\n",
       "      <td>-0.472554</td>\n",
       "      <td>-0.612505</td>\n",
       "      <td>1</td>\n",
       "      <td>0</td>\n",
       "      <td>1.430316</td>\n",
       "      <td>1.611645</td>\n",
       "      <td>-1.345259</td>\n",
       "      <td>0</td>\n",
       "      <td>1</td>\n",
       "      <td>-0.027667</td>\n",
       "      <td>0.829587</td>\n",
       "      <td>-1.091361</td>\n",
       "      <td>1.273339</td>\n",
       "      <td>1.004442</td>\n",
       "      <td>1.475128</td>\n",
       "      <td>-1.270564</td>\n",
       "      <td>0.703701</td>\n",
       "      <td>0.076445</td>\n",
       "    </tr>\n",
       "    <tr>\n",
       "      <th>2</th>\n",
       "      <td>0</td>\n",
       "      <td>1</td>\n",
       "      <td>0</td>\n",
       "      <td>0</td>\n",
       "      <td>0</td>\n",
       "      <td>1</td>\n",
       "      <td>0</td>\n",
       "      <td>0</td>\n",
       "      <td>-0.038658</td>\n",
       "      <td>1</td>\n",
       "      <td>0</td>\n",
       "      <td>0</td>\n",
       "      <td>1</td>\n",
       "      <td>-0.472554</td>\n",
       "      <td>-0.612505</td>\n",
       "      <td>0</td>\n",
       "      <td>1</td>\n",
       "      <td>-1.506507</td>\n",
       "      <td>1.073257</td>\n",
       "      <td>0.442413</td>\n",
       "      <td>1</td>\n",
       "      <td>0</td>\n",
       "      <td>1.451425</td>\n",
       "      <td>0.904580</td>\n",
       "      <td>0.377760</td>\n",
       "      <td>-1.508773</td>\n",
       "      <td>0.151819</td>\n",
       "      <td>-0.924849</td>\n",
       "      <td>1.688543</td>\n",
       "      <td>0.703701</td>\n",
       "      <td>0.076445</td>\n",
       "    </tr>\n",
       "    <tr>\n",
       "      <th>3</th>\n",
       "      <td>0</td>\n",
       "      <td>1</td>\n",
       "      <td>0</td>\n",
       "      <td>0</td>\n",
       "      <td>0</td>\n",
       "      <td>1</td>\n",
       "      <td>0</td>\n",
       "      <td>1</td>\n",
       "      <td>-0.038658</td>\n",
       "      <td>1</td>\n",
       "      <td>0</td>\n",
       "      <td>1</td>\n",
       "      <td>0</td>\n",
       "      <td>-0.472554</td>\n",
       "      <td>-0.612505</td>\n",
       "      <td>1</td>\n",
       "      <td>0</td>\n",
       "      <td>-0.592828</td>\n",
       "      <td>-0.003518</td>\n",
       "      <td>-0.451423</td>\n",
       "      <td>0</td>\n",
       "      <td>1</td>\n",
       "      <td>1.388036</td>\n",
       "      <td>0.254641</td>\n",
       "      <td>0.921879</td>\n",
       "      <td>-0.008851</td>\n",
       "      <td>-0.771855</td>\n",
       "      <td>0.707135</td>\n",
       "      <td>0.589446</td>\n",
       "      <td>1.418137</td>\n",
       "      <td>0.076445</td>\n",
       "    </tr>\n",
       "    <tr>\n",
       "      <th>4</th>\n",
       "      <td>0</td>\n",
       "      <td>1</td>\n",
       "      <td>0</td>\n",
       "      <td>0</td>\n",
       "      <td>0</td>\n",
       "      <td>1</td>\n",
       "      <td>0</td>\n",
       "      <td>0</td>\n",
       "      <td>1.172395</td>\n",
       "      <td>1</td>\n",
       "      <td>0</td>\n",
       "      <td>1</td>\n",
       "      <td>0</td>\n",
       "      <td>-0.472554</td>\n",
       "      <td>-0.612505</td>\n",
       "      <td>1</td>\n",
       "      <td>0</td>\n",
       "      <td>-1.245456</td>\n",
       "      <td>-0.541905</td>\n",
       "      <td>1.336249</td>\n",
       "      <td>1</td>\n",
       "      <td>0</td>\n",
       "      <td>1.176737</td>\n",
       "      <td>-1.670179</td>\n",
       "      <td>0.667956</td>\n",
       "      <td>1.345916</td>\n",
       "      <td>-0.274492</td>\n",
       "      <td>1.091131</td>\n",
       "      <td>1.012176</td>\n",
       "      <td>1.418137</td>\n",
       "      <td>0.076445</td>\n",
       "    </tr>\n",
       "  </tbody>\n",
       "</table>\n",
       "</div>"
      ],
      "text/plain": [
       "   Bengaluru  Bhubaneshwar  Chandigarh  Chennai  Delhi  Female  Male  Married  \\\n",
       "0          0             1           0        0      0       1     0        1   \n",
       "1          0             1           0        0      0       1     0        1   \n",
       "2          0             1           0        0      0       1     0        0   \n",
       "3          0             1           0        0      0       1     0        1   \n",
       "4          0             1           0        0      0       1     0        0   \n",
       "\n",
       "   Children  occ_group1  occ_group2  safe_transport  unsafe_transport  \\\n",
       "0 -0.038658           0           1               0                 1   \n",
       "1  1.172395           0           1               1                 0   \n",
       "2 -0.038658           1           0               0                 1   \n",
       "3 -0.038658           1           0               1                 0   \n",
       "4  1.172395           1           0               1                 0   \n",
       "\n",
       "   cases/1M  Deaths/1M  heart_disease  No_disease       Age  Coma score  \\\n",
       "0 -0.472554  -0.612505              1           0  1.691367   -0.272711   \n",
       "1 -0.472554  -0.612505              1           0  1.430316    1.611645   \n",
       "2 -0.472554  -0.612505              0           1 -1.506507    1.073257   \n",
       "3 -0.472554  -0.612505              1           0 -0.592828   -0.003518   \n",
       "4 -0.472554  -0.612505              1           0 -1.245456   -0.541905   \n",
       "\n",
       "   Pulmonary score  Normal_pressure  High_pressure  Diuresis  Platelets  \\\n",
       "0         1.336249                1              0  1.715549   1.654509   \n",
       "1        -1.345259                0              1 -0.027667   0.829587   \n",
       "2         0.442413                1              0  1.451425   0.904580   \n",
       "3        -0.451423                0              1  1.388036   0.254641   \n",
       "4         1.336249                1              0  1.176737  -1.670179   \n",
       "\n",
       "        HBB   d-dimer  Heart rate  HDL cholesterol  Charlson Index  \\\n",
       "0 -0.420281 -1.024927    0.507079         0.515137        0.589446   \n",
       "1 -1.091361  1.273339    1.004442         1.475128       -1.270564   \n",
       "2  0.377760 -1.508773    0.151819        -0.924849        1.688543   \n",
       "3  0.921879 -0.008851   -0.771855         0.707135        0.589446   \n",
       "4  0.667956  1.345916   -0.274492         1.091131        1.012176   \n",
       "\n",
       "   Blood Glucose  FT/month  \n",
       "0       1.418137  1.286246  \n",
       "1       0.703701  0.076445  \n",
       "2       0.703701  0.076445  \n",
       "3       1.418137  0.076445  \n",
       "4       1.418137  0.076445  "
      ]
     },
     "execution_count": 11,
     "metadata": {},
     "output_type": "execute_result"
    }
   ],
   "source": [
    "scaled_inputs = scaler.transform(unscaled_inputs)\n",
    "scaled_inputs.head()"
   ]
  },
  {
   "cell_type": "code",
   "execution_count": 12,
   "metadata": {},
   "outputs": [
    {
     "name": "stderr",
     "output_type": "stream",
     "text": [
      "D:\\karthik\\me\\anaconda3\\envs\\py3-TF2.0\\lib\\site-packages\\ipykernel_launcher.py:6: SettingWithCopyWarning: \n",
      "A value is trying to be set on a copy of a slice from a DataFrame\n",
      "\n",
      "See the caveats in the documentation: https://pandas.pydata.org/pandas-docs/stable/user_guide/indexing.html#returning-a-view-versus-a-copy\n",
      "  \n",
      "D:\\karthik\\me\\anaconda3\\envs\\py3-TF2.0\\lib\\site-packages\\ipykernel_launcher.py:4: SettingWithCopyWarning: \n",
      "A value is trying to be set on a copy of a slice from a DataFrame\n",
      "\n",
      "See the caveats in the documentation: https://pandas.pydata.org/pandas-docs/stable/user_guide/indexing.html#returning-a-view-versus-a-copy\n",
      "  after removing the cwd from sys.path.\n"
     ]
    }
   ],
   "source": [
    "new_list = []\n",
    "for i in range (len(targets)):\n",
    "        if targets[i]>=50:\n",
    "            targets[i] =1\n",
    "        else:\n",
    "            targets[i] =0"
   ]
  },
  {
   "cell_type": "markdown",
   "metadata": {},
   "source": [
    "## shuffling_the _dataset"
   ]
  },
  {
   "cell_type": "code",
   "execution_count": 13,
   "metadata": {},
   "outputs": [],
   "source": [
    "shuffled_indices = np.arange(scaled_inputs.shape[0])\n",
    "\n",
    "np.random.shuffle(shuffled_indices)"
   ]
  },
  {
   "cell_type": "code",
   "execution_count": 14,
   "metadata": {},
   "outputs": [
    {
     "data": {
      "text/plain": [
       "array([ 340, 8882, 1116, ..., 7148, 2109, 1017])"
      ]
     },
     "execution_count": 14,
     "metadata": {},
     "output_type": "execute_result"
    }
   ],
   "source": [
    "shuffled_indices"
   ]
  },
  {
   "cell_type": "code",
   "execution_count": 15,
   "metadata": {},
   "outputs": [],
   "source": [
    "shuffled_inputs = scaled_inputs.iloc[shuffled_indices]\n",
    "\n",
    "shuffled_targets = targets[shuffled_indices]"
   ]
  },
  {
   "cell_type": "markdown",
   "metadata": {},
   "source": [
    "## train_test_validation"
   ]
  },
  {
   "cell_type": "code",
   "execution_count": 16,
   "metadata": {},
   "outputs": [],
   "source": [
    "sample_count = scaled_inputs.shape[0]"
   ]
  },
  {
   "cell_type": "code",
   "execution_count": 17,
   "metadata": {},
   "outputs": [],
   "source": [
    "train_count = int(0.8 * sample_count)\n",
    "\n",
    "validation_count = int(0.1 * sample_count)\n",
    "\n",
    "test_count = sample_count - (train_count+validation_count)"
   ]
  },
  {
   "cell_type": "code",
   "execution_count": 18,
   "metadata": {},
   "outputs": [],
   "source": [
    "#spliting data\n",
    "\n",
    "train_inputs = shuffled_inputs[:train_count]\n",
    "train_targets = shuffled_targets[:train_count]"
   ]
  },
  {
   "cell_type": "code",
   "execution_count": 19,
   "metadata": {},
   "outputs": [
    {
     "data": {
      "text/plain": [
       "340     0.0\n",
       "8882    1.0\n",
       "1116    0.0\n",
       "383     1.0\n",
       "7030    0.0\n",
       "Name: Infect_Prob, dtype: float64"
      ]
     },
     "execution_count": 19,
     "metadata": {},
     "output_type": "execute_result"
    }
   ],
   "source": [
    "train_targets.head()"
   ]
  },
  {
   "cell_type": "code",
   "execution_count": 20,
   "metadata": {},
   "outputs": [],
   "source": [
    "validation_inputs =shuffled_inputs[train_count:train_count+validation_count]\n",
    "validation_targets = shuffled_targets[train_count:train_count+validation_count]"
   ]
  },
  {
   "cell_type": "code",
   "execution_count": 21,
   "metadata": {},
   "outputs": [],
   "source": [
    "test_inputs = shuffled_inputs[train_count+validation_count:]\n",
    "test_targets =shuffled_targets[train_count+validation_count:]"
   ]
  },
  {
   "cell_type": "markdown",
   "metadata": {},
   "source": [
    "## saving in npz form for tensorflow inputs"
   ]
  },
  {
   "cell_type": "code",
   "execution_count": 22,
   "metadata": {},
   "outputs": [],
   "source": [
    "np.savez('covid_data_train', inputs=train_inputs, targets=train_targets)\n",
    "np.savez('covid_data_validation', inputs=validation_inputs, targets=validation_targets)\n",
    "np.savez('covid_data_test', inputs=test_inputs, targets=test_targets)"
   ]
  }
 ],
 "metadata": {
  "kernelspec": {
   "display_name": "Python [conda env:py3-TF2.0]",
   "language": "python",
   "name": "conda-env-py3-TF2.0-py"
  },
  "language_info": {
   "codemirror_mode": {
    "name": "ipython",
    "version": 3
   },
   "file_extension": ".py",
   "mimetype": "text/x-python",
   "name": "python",
   "nbconvert_exporter": "python",
   "pygments_lexer": "ipython3",
   "version": "3.7.7"
  }
 },
 "nbformat": 4,
 "nbformat_minor": 4
}
